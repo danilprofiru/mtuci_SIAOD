{
 "cells": [
  {
   "cell_type": "markdown",
   "id": "fifteen-sailing",
   "metadata": {
    "id": "fifteen-sailing"
   },
   "source": [
    "# Лабораторная работа №2\n",
    "## Выполнил студент группы Курмашев Данил БПИ2303"
   ]
  },
  {
   "cell_type": "markdown",
   "id": "arctic-stocks",
   "metadata": {
    "id": "arctic-stocks"
   },
   "source": [
    "Реализовать следующие структуры данных:\n",
    "  \n",
    "● <b> Стек (stack): </b>  \n",
    "Операции для стека:\n",
    "<i> инициализация, проверка на пустоту, добавление нового элемента в начало, извлечение элемента из начала;  </i>  \n",
    "  \n",
    "● <b> Дек (двусторонняя очередь, deque):  </b>  \n",
    "Операции для дека:\n",
    "<i> инициализация, проверка на пустоту, добавление нового элемента в начало, добавление нового элемента в конец, извлечение элемента из начала, извлечение элемента из конца. </i>  \n",
    "  \n",
    "<i> Разработать программу обработки данных, содержащихся в заранее подготовленном txt-файле, в соответствии с заданиями, применив указанную в задании структуру данных. Результат работы программы вывести на экран и сохранить в отдельном txt-файле. </i>"
   ]
  },
  {
   "cell_type": "markdown",
   "id": "5d7edb08",
   "metadata": {
    "id": "5d7edb08",
    "scrolled": true
   },
   "source": [
    "### Задание №1\n",
    "Отсортировать строки файла, содержащие названия книг, в алфавитном порядке с использованием двух деков."
   ]
  },
  {
   "cell_type": "code",
   "execution_count": 6,
   "id": "17702ade",
   "metadata": {
    "id": "17702ade"
   },
   "outputs": [],
   "source": [
    "import shutil\n",
    "from collections import deque\n",
    "\n",
    "input_file = \"2.1/books.txt\"\n",
    "copy_file = \"2.1/books_copy.txt\"\n",
    "\n",
    "shutil.copy(input_file, copy_file)\n",
    "\n",
    "def sort_books(file_name):\n",
    "    input_deque = deque() \n",
    "\n",
    "    with open(file_name, \"r\", encoding=\"utf-8\") as f:\n",
    "        for line in f:\n",
    "            input_deque.append(line.strip())\n",
    "\n",
    "    sorted_list = sorted(input_deque)\n",
    "\n",
    "    sorted_deque = deque(sorted_list)\n",
    "\n",
    "    with open(file_name, \"w\", encoding=\"utf-8\") as f:\n",
    "        for book in sorted_deque:\n",
    "            f.write(book + \"\\n\")\n",
    "\n",
    "sort_books(copy_file)"
   ]
  },
  {
   "cell_type": "markdown",
   "id": "49fbd2a0",
   "metadata": {
    "id": "49fbd2a0"
   },
   "source": [
    "### Задание №2\n",
    "Дек содержит последовательность символов для шифровки сообщений. Дан текстовый файл, содержащий зашифрованное сообщение. Пользуясь деком, расшифровать текст.\n",
    "Известно, что при шифровке каждый символ сообщения заменялся следующим за ним в деке по часовой стрелке через один."
   ]
  },
  {
   "cell_type": "code",
   "execution_count": 9,
   "id": "81cab7a8",
   "metadata": {
    "id": "81cab7a8"
   },
   "outputs": [
    {
     "name": "stdout",
     "output_type": "stream",
     "text": [
      "Расшифровка завершена. Проверьте файл: decrypted_message.txt\n"
     ]
    }
   ],
   "source": [
    "from collections import deque\n",
    "\n",
    "# Функция для расшифровки текста\n",
    "def decrypt_message(message_file, keys_file):\n",
    "    # Читаем ключи из файла и добавляем их в дек\n",
    "    with open(keys_file, \"r\", encoding=\"utf-8\") as f:\n",
    "        keys = deque(map(int, f.read().split()))  # Преобразуем строки в числа\n",
    "\n",
    "    # Читаем зашифрованное сообщение\n",
    "    with open(message_file, \"r\", encoding=\"utf-8\") as f:\n",
    "        encrypted_text = f.read()\n",
    "\n",
    "    decrypted_text = []  # Список для расшифрованного текста\n",
    "\n",
    "    # Алфавиты для обработки\n",
    "    alphabet_upper = \"АБВГДЕЁЖЗИЙКЛМНОПРСТУФХЦЧШЩЪЫЬЭЮЯ\"\n",
    "    alphabet_lower = alphabet_upper.lower()\n",
    "    \n",
    "    alphabet_size = len(alphabet_upper)  # Количество букв в алфавите (33)\n",
    "\n",
    "    # Расшифровываем каждую букву\n",
    "    for char in encrypted_text:\n",
    "        if char in alphabet_upper or char in alphabet_lower:  # Только для букв\n",
    "            shift = keys.popleft()  # Берём первый сдвиг\n",
    "            keys.append(shift)  # Добавляем его в конец (чтобы циклически использовать)\n",
    "\n",
    "            # Определяем, какой алфавит используется (верхний/нижний регистр)\n",
    "            if char in alphabet_upper:\n",
    "                new_index = (alphabet_upper.index(char) - shift) % alphabet_size\n",
    "                new_char = alphabet_upper[new_index]\n",
    "            else:\n",
    "                new_index = (alphabet_lower.index(char) - shift) % alphabet_size\n",
    "                new_char = alphabet_lower[new_index]\n",
    "        else:\n",
    "            new_char = char  # Не меняем символы, если это не буква\n",
    "\n",
    "        decrypted_text.append(new_char)\n",
    "\n",
    "    # Записываем расшифрованный текст в новый файл\n",
    "    with open(\"2.2/decrypted_message.txt\", \"w\", encoding=\"utf-8\") as f:\n",
    "        f.write(\"\".join(decrypted_text))\n",
    "\n",
    "# Выполняем расшифровку\n",
    "decrypt_message(\"2.2/message.txt\", \"2.2/keys.txt\")\n",
    "\n",
    "print(\"Расшифровка завершена. Проверьте файл: decrypted_message.txt\")"
   ]
  },
  {
   "cell_type": "markdown",
   "id": "c0894f47",
   "metadata": {
    "id": "c0894f47"
   },
   "source": [
    "### Задание №3\n",
    "Даны три стержня и n дисков различного размера. Диски можно надевать на стержни, образуя из них башни. Перенести n дисков со стержня А на стержень С, сохранив их первоначальный порядок. При переносе дисков необходимо соблюдать следующие правила:\n",
    "- на каждом шаге со стержня на стержень переносить только один диск;\n",
    "- диск нельзя помещать на диск меньшего размера;\n",
    "- для промежуточного хранения можно использовать стержень В.\n",
    "Реализовать алгоритм, используя три стека вместо стержней А, В, С. Информация о дисках хранится в исходном файле."
   ]
  },
  {
   "cell_type": "code",
   "execution_count": null,
   "id": "9e91a9d4",
   "metadata": {
    "id": "9e91a9d4"
   },
   "outputs": [],
   "source": []
  },
  {
   "cell_type": "markdown",
   "id": "e5b0be17",
   "metadata": {
    "id": "e5b0be17"
   },
   "source": [
    "### Задание №4\n",
    "Дан текстовый файл с программой на алгоритмическом языке. За один просмотр файла проверить баланс круглых скобок в тексте, используя стек."
   ]
  },
  {
   "cell_type": "code",
   "execution_count": null,
   "id": "5b1df60a",
   "metadata": {
    "id": "5b1df60a"
   },
   "outputs": [],
   "source": []
  },
  {
   "cell_type": "markdown",
   "id": "c44cdd6b",
   "metadata": {
    "id": "c44cdd6b"
   },
   "source": [
    "### Задание №5\n",
    "Дан текстовый файл с программой на алгоритмическом языке. За один просмотр файла проверить баланс квадратных скобок в тексте, используя дек."
   ]
  },
  {
   "cell_type": "code",
   "execution_count": null,
   "id": "36b8f400",
   "metadata": {
    "id": "36b8f400"
   },
   "outputs": [],
   "source": []
  },
  {
   "cell_type": "markdown",
   "id": "59d13dc7",
   "metadata": {
    "id": "59d13dc7"
   },
   "source": [
    "### Задание №6\n",
    "Дан файл из символов. Используя стек, за один просмотр файла напечатать сначала все цифры, затем все буквы, и, наконец, все остальные символы, сохраняя исходный порядок в каждой группе символов."
   ]
  },
  {
   "cell_type": "code",
   "execution_count": null,
   "id": "297e36c2",
   "metadata": {
    "id": "297e36c2"
   },
   "outputs": [],
   "source": []
  },
  {
   "cell_type": "markdown",
   "id": "973f68bd",
   "metadata": {
    "id": "973f68bd"
   },
   "source": [
    "### Задание №7\n",
    "Дан файл из целых чисел. Используя дек, за один просмотр файла напечатать сначала все отрицательные числа, затем все положительные числа, сохраняя исходный порядок в каждой группе."
   ]
  },
  {
   "cell_type": "code",
   "execution_count": null,
   "id": "c56fad66",
   "metadata": {
    "id": "c56fad66"
   },
   "outputs": [],
   "source": []
  },
  {
   "cell_type": "markdown",
   "id": "b9228191",
   "metadata": {
    "id": "b9228191"
   },
   "source": [
    "### Задание №8\n",
    "Дан текстовый файл. Используя стек, сформировать новый текстовый файл, содержащий строки исходного файла, записанные в обратном порядке: первая строка становится последней, вторая – предпоследней и т.д."
   ]
  },
  {
   "cell_type": "code",
   "execution_count": null,
   "id": "981fbdfe",
   "metadata": {
    "id": "981fbdfe"
   },
   "outputs": [],
   "source": []
  },
  {
   "cell_type": "markdown",
   "id": "rental-jerusalem",
   "metadata": {
    "id": "rental-jerusalem"
   },
   "source": [
    "### Вывод\n"
   ]
  },
  {
   "cell_type": "markdown",
   "id": "0c2b8899",
   "metadata": {
    "id": "0c2b8899"
   },
   "source": []
  }
 ],
 "metadata": {
  "colab": {
   "provenance": [
    {
     "file_id": "1SJnopeql2j1MhzcaJ8o68KaPzPnynIeK",
     "timestamp": 1676536264821
    }
   ]
  },
  "kernelspec": {
   "display_name": "Python 3",
   "language": "python",
   "name": "python3"
  },
  "language_info": {
   "codemirror_mode": {
    "name": "ipython",
    "version": 3
   },
   "file_extension": ".py",
   "mimetype": "text/x-python",
   "name": "python",
   "nbconvert_exporter": "python",
   "pygments_lexer": "ipython3",
   "version": "3.12.9"
  }
 },
 "nbformat": 4,
 "nbformat_minor": 5
}
